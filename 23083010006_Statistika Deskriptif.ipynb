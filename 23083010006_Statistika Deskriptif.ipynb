{
 "cells": [
  {
   "cell_type": "markdown",
   "id": "2b0d0644-73f2-4891-9534-89f265b1c130",
   "metadata": {},
   "source": [
    "# Statistika Deskriptif\n",
    "Nama: Iin Febyanti\n",
    "\n",
    "NPM: 23083010006\n",
    "\n",
    "Kelas: Analisis Data Eksploratif (A)"
   ]
  },
  {
   "cell_type": "code",
   "execution_count": 56,
   "id": "509b3e5e-80ca-432e-a94d-71e67b27df9f",
   "metadata": {
    "tags": []
   },
   "outputs": [
    {
     "data": {
      "text/html": [
       "<div>\n",
       "<style scoped>\n",
       "    .dataframe tbody tr th:only-of-type {\n",
       "        vertical-align: middle;\n",
       "    }\n",
       "\n",
       "    .dataframe tbody tr th {\n",
       "        vertical-align: top;\n",
       "    }\n",
       "\n",
       "    .dataframe thead th {\n",
       "        text-align: right;\n",
       "    }\n",
       "</style>\n",
       "<table border=\"1\" class=\"dataframe\">\n",
       "  <thead>\n",
       "    <tr style=\"text-align: right;\">\n",
       "      <th></th>\n",
       "      <th>Unnamed: 0</th>\n",
       "      <th>gender</th>\n",
       "      <th>age</th>\n",
       "      <th>marital_status</th>\n",
       "      <th>highest_qualification</th>\n",
       "      <th>nationality</th>\n",
       "      <th>ethnicity</th>\n",
       "      <th>gross_income</th>\n",
       "      <th>region</th>\n",
       "      <th>smoke</th>\n",
       "      <th>amt_weekends</th>\n",
       "      <th>amt_weekdays</th>\n",
       "      <th>type</th>\n",
       "    </tr>\n",
       "  </thead>\n",
       "  <tbody>\n",
       "    <tr>\n",
       "      <th>0</th>\n",
       "      <td>1</td>\n",
       "      <td>Male</td>\n",
       "      <td>38</td>\n",
       "      <td>Divorced</td>\n",
       "      <td>No Qualification</td>\n",
       "      <td>British</td>\n",
       "      <td>White</td>\n",
       "      <td>2,600 to 5,200</td>\n",
       "      <td>The North</td>\n",
       "      <td>No</td>\n",
       "      <td>NaN</td>\n",
       "      <td>NaN</td>\n",
       "      <td>NaN</td>\n",
       "    </tr>\n",
       "    <tr>\n",
       "      <th>1</th>\n",
       "      <td>2</td>\n",
       "      <td>Female</td>\n",
       "      <td>42</td>\n",
       "      <td>Single</td>\n",
       "      <td>No Qualification</td>\n",
       "      <td>British</td>\n",
       "      <td>White</td>\n",
       "      <td>Under 2,600</td>\n",
       "      <td>The North</td>\n",
       "      <td>Yes</td>\n",
       "      <td>12.0</td>\n",
       "      <td>12.0</td>\n",
       "      <td>Packets</td>\n",
       "    </tr>\n",
       "    <tr>\n",
       "      <th>2</th>\n",
       "      <td>3</td>\n",
       "      <td>Male</td>\n",
       "      <td>40</td>\n",
       "      <td>Married</td>\n",
       "      <td>Degree</td>\n",
       "      <td>English</td>\n",
       "      <td>White</td>\n",
       "      <td>28,600 to 36,400</td>\n",
       "      <td>The North</td>\n",
       "      <td>No</td>\n",
       "      <td>NaN</td>\n",
       "      <td>NaN</td>\n",
       "      <td>NaN</td>\n",
       "    </tr>\n",
       "    <tr>\n",
       "      <th>3</th>\n",
       "      <td>4</td>\n",
       "      <td>Female</td>\n",
       "      <td>40</td>\n",
       "      <td>Married</td>\n",
       "      <td>Degree</td>\n",
       "      <td>English</td>\n",
       "      <td>White</td>\n",
       "      <td>10,400 to 15,600</td>\n",
       "      <td>The North</td>\n",
       "      <td>No</td>\n",
       "      <td>NaN</td>\n",
       "      <td>NaN</td>\n",
       "      <td>NaN</td>\n",
       "    </tr>\n",
       "    <tr>\n",
       "      <th>4</th>\n",
       "      <td>5</td>\n",
       "      <td>Female</td>\n",
       "      <td>39</td>\n",
       "      <td>Married</td>\n",
       "      <td>GCSE/O Level</td>\n",
       "      <td>British</td>\n",
       "      <td>White</td>\n",
       "      <td>2,600 to 5,200</td>\n",
       "      <td>The North</td>\n",
       "      <td>No</td>\n",
       "      <td>NaN</td>\n",
       "      <td>NaN</td>\n",
       "      <td>NaN</td>\n",
       "    </tr>\n",
       "    <tr>\n",
       "      <th>...</th>\n",
       "      <td>...</td>\n",
       "      <td>...</td>\n",
       "      <td>...</td>\n",
       "      <td>...</td>\n",
       "      <td>...</td>\n",
       "      <td>...</td>\n",
       "      <td>...</td>\n",
       "      <td>...</td>\n",
       "      <td>...</td>\n",
       "      <td>...</td>\n",
       "      <td>...</td>\n",
       "      <td>...</td>\n",
       "      <td>...</td>\n",
       "    </tr>\n",
       "    <tr>\n",
       "      <th>1686</th>\n",
       "      <td>1687</td>\n",
       "      <td>Male</td>\n",
       "      <td>22</td>\n",
       "      <td>Single</td>\n",
       "      <td>No Qualification</td>\n",
       "      <td>Scottish</td>\n",
       "      <td>White</td>\n",
       "      <td>2,600 to 5,200</td>\n",
       "      <td>Scotland</td>\n",
       "      <td>No</td>\n",
       "      <td>NaN</td>\n",
       "      <td>NaN</td>\n",
       "      <td>NaN</td>\n",
       "    </tr>\n",
       "    <tr>\n",
       "      <th>1687</th>\n",
       "      <td>1688</td>\n",
       "      <td>Female</td>\n",
       "      <td>49</td>\n",
       "      <td>Divorced</td>\n",
       "      <td>Other/Sub Degree</td>\n",
       "      <td>English</td>\n",
       "      <td>White</td>\n",
       "      <td>2,600 to 5,200</td>\n",
       "      <td>Scotland</td>\n",
       "      <td>Yes</td>\n",
       "      <td>20.0</td>\n",
       "      <td>20.0</td>\n",
       "      <td>Hand-Rolled</td>\n",
       "    </tr>\n",
       "    <tr>\n",
       "      <th>1688</th>\n",
       "      <td>1689</td>\n",
       "      <td>Male</td>\n",
       "      <td>45</td>\n",
       "      <td>Married</td>\n",
       "      <td>Other/Sub Degree</td>\n",
       "      <td>Scottish</td>\n",
       "      <td>White</td>\n",
       "      <td>5,200 to 10,400</td>\n",
       "      <td>Scotland</td>\n",
       "      <td>No</td>\n",
       "      <td>NaN</td>\n",
       "      <td>NaN</td>\n",
       "      <td>NaN</td>\n",
       "    </tr>\n",
       "    <tr>\n",
       "      <th>1689</th>\n",
       "      <td>1690</td>\n",
       "      <td>Female</td>\n",
       "      <td>51</td>\n",
       "      <td>Married</td>\n",
       "      <td>No Qualification</td>\n",
       "      <td>English</td>\n",
       "      <td>White</td>\n",
       "      <td>2,600 to 5,200</td>\n",
       "      <td>Scotland</td>\n",
       "      <td>Yes</td>\n",
       "      <td>20.0</td>\n",
       "      <td>20.0</td>\n",
       "      <td>Packets</td>\n",
       "    </tr>\n",
       "    <tr>\n",
       "      <th>1690</th>\n",
       "      <td>1691</td>\n",
       "      <td>Male</td>\n",
       "      <td>31</td>\n",
       "      <td>Married</td>\n",
       "      <td>Degree</td>\n",
       "      <td>Scottish</td>\n",
       "      <td>White</td>\n",
       "      <td>10,400 to 15,600</td>\n",
       "      <td>Scotland</td>\n",
       "      <td>No</td>\n",
       "      <td>NaN</td>\n",
       "      <td>NaN</td>\n",
       "      <td>NaN</td>\n",
       "    </tr>\n",
       "  </tbody>\n",
       "</table>\n",
       "<p>1691 rows × 13 columns</p>\n",
       "</div>"
      ],
      "text/plain": [
       "      Unnamed: 0  gender  age marital_status highest_qualification  \\\n",
       "0              1    Male   38       Divorced      No Qualification   \n",
       "1              2  Female   42         Single      No Qualification   \n",
       "2              3    Male   40        Married                Degree   \n",
       "3              4  Female   40        Married                Degree   \n",
       "4              5  Female   39        Married          GCSE/O Level   \n",
       "...          ...     ...  ...            ...                   ...   \n",
       "1686        1687    Male   22         Single      No Qualification   \n",
       "1687        1688  Female   49       Divorced      Other/Sub Degree   \n",
       "1688        1689    Male   45        Married      Other/Sub Degree   \n",
       "1689        1690  Female   51        Married      No Qualification   \n",
       "1690        1691    Male   31        Married                Degree   \n",
       "\n",
       "     nationality ethnicity      gross_income     region smoke  amt_weekends  \\\n",
       "0        British     White    2,600 to 5,200  The North    No           NaN   \n",
       "1        British     White       Under 2,600  The North   Yes          12.0   \n",
       "2        English     White  28,600 to 36,400  The North    No           NaN   \n",
       "3        English     White  10,400 to 15,600  The North    No           NaN   \n",
       "4        British     White    2,600 to 5,200  The North    No           NaN   \n",
       "...          ...       ...               ...        ...   ...           ...   \n",
       "1686    Scottish     White    2,600 to 5,200   Scotland    No           NaN   \n",
       "1687     English     White    2,600 to 5,200   Scotland   Yes          20.0   \n",
       "1688    Scottish     White   5,200 to 10,400   Scotland    No           NaN   \n",
       "1689     English     White    2,600 to 5,200   Scotland   Yes          20.0   \n",
       "1690    Scottish     White  10,400 to 15,600   Scotland    No           NaN   \n",
       "\n",
       "      amt_weekdays         type  \n",
       "0              NaN          NaN  \n",
       "1             12.0      Packets  \n",
       "2              NaN          NaN  \n",
       "3              NaN          NaN  \n",
       "4              NaN          NaN  \n",
       "...            ...          ...  \n",
       "1686           NaN          NaN  \n",
       "1687          20.0  Hand-Rolled  \n",
       "1688           NaN          NaN  \n",
       "1689          20.0      Packets  \n",
       "1690           NaN          NaN  \n",
       "\n",
       "[1691 rows x 13 columns]"
      ]
     },
     "execution_count": 56,
     "metadata": {},
     "output_type": "execute_result"
    }
   ],
   "source": [
    "import pandas as pd\n",
    "import matplotlib.pyplot as plt\n",
    "import seaborn as sns\n",
    "data = pd.read_csv(\"C:/Users/IIN FEBYANTI/OneDrive/Sains Data/smoking.csv\")\n",
    "data.head()\n",
    "data"
   ]
  },
  {
   "cell_type": "markdown",
   "id": "099dbc2a-5752-4bdb-a296-44696c303a10",
   "metadata": {},
   "source": [
    "# Visualisasi Usia"
   ]
  },
  {
   "cell_type": "code",
   "execution_count": 57,
   "id": "320227bd-a8a7-4fb0-b9c4-48c931c57621",
   "metadata": {
    "tags": []
   },
   "outputs": [
    {
     "data": {
      "image/png": "[encoded data removed]",
      "text/plain": [
       "<Figure size 600x400 with 1 Axes>"
      ]
     },
     "metadata": {},
     "output_type": "display_data"
    }
   ],
   "source": [
    "# Filter data untuk perokok\n",
    "perokok = data[data['smoke'] == 'Yes']\n",
    "\n",
    "# Membuat visualisasi distribusi usia untuk perokok\n",
    "plt.figure(figsize=(6, 4))\n",
    "sns.histplot(perokok['age'], kde=True, bins=20, color='green')\n",
    "plt.title('Distribusi Usia Perokok')\n",
    "plt.xlabel('Age')\n",
    "plt.ylabel('Frekuensi')\n",
    "plt.show()"
   ]
  },
  {
   "cell_type": "markdown",
   "id": "7213d330-52f2-4d1d-8499-104f2da8070c",
   "metadata": {},
   "source": [
    "# Penjelasan\n",
    "Grafik distribusi usia perokok ini mendekati distribusi normal, meskipun tidak sepenuhnya ideal. Dengan bentuk lonceng yang khas, grafik ini memiliki puncak di sekitar usia 30-40 tahun dan menurun di kedua sisinya, yang mencerminkan kecenderungan menuju normalitas.Simetri yang kurang sempurna dan sedikit ketidakteraturan di sekitar puncak menunjukkan bahwa, meskipun distribusi ini mendekati normal,kita tidak bisa menganggapnya sebagai distribusi normal yang sempurna tanpa melakukan pengujian statistik lebih lanjut."
   ]
  },
  {
   "cell_type": "code",
   "execution_count": 58,
   "id": "9430ab42-cd1c-407d-b071-60d77bda8817",
   "metadata": {
    "tags": []
   },
   "outputs": [
    {
     "name": "stdout",
     "output_type": "stream",
     "text": [
      "Analisis Pemusatan Data\n",
      "Mean: 42.71\n",
      "Median: 40.00\n",
      "Modus: 28.00\n",
      "\n",
      "Analisis Penyebaran Data\n",
      "Range: 77.00\n",
      "Variance: 261.16\n",
      "Standard Deviation: 16.16\n",
      "\n",
      "Skewness (Kemiringan Data)\n",
      "Skewness: 0.54\n",
      "Data miring ke kanan (Positif).\n"
     ]
    }
   ],
   "source": [
    "from scipy.stats import skew\n",
    "\n",
    "# Filter data untuk perokok\n",
    "perokok = data[data['smoke'] == 'Yes']\n",
    "data_perokok = perokok['age']\n",
    "\n",
    "# Menghitung pemusatan data\n",
    "mean = np.mean(data_perokok)\n",
    "median = np.median(data_perokok)\n",
    "modus = data_perokok.mode()[0]  \n",
    "\n",
    "# Menghitung penyebaran data\n",
    "range = np.max(data_perokok) - np.min(data_perokok)\n",
    "variance = np.var(data_perokok, ddof=0)  \n",
    "std_dev= np.std(data_perokok, ddof=0)   \n",
    "\n",
    "# Menghitung skewness\n",
    "skewness = skew(data_perokok)\n",
    "\n",
    "# Menampilkan hasil\n",
    "print(\"Analisis Pemusatan Data\")\n",
    "print(f\"Mean: {mean:.2f}\")\n",
    "print(f\"Median: {median:.2f}\")\n",
    "print(f\"Modus: {modus:.2f}\")\n",
    "\n",
    "print(\"\\nAnalisis Penyebaran Data\")\n",
    "print(f\"Range: {range:.2f}\")\n",
    "print(f\"Variance: {variance:.2f}\")\n",
    "print(f\"Standard Deviation: {std_dev:.2f}\")\n",
    "\n",
    "print(\"\\nSkewness (Kemiringan Data)\")\n",
    "print(f\"Skewness: {skewness:.2f}\")\n",
    "\n",
    "if skewness > 0:\n",
    "    print(\"Data miring ke kanan (Positif).\")\n",
    "elif skewness < 0:\n",
    "    print(\"Data miring ke kiri (Negatif).\")\n",
    "else:\n",
    "    print(\"Data simetris.\")\n",
    "\n"
   ]
  },
  {
   "cell_type": "markdown",
   "id": "1f83088d-05d9-4d50-93da-8b5440727117",
   "metadata": {},
   "source": [
    "Analisis ini memberikan gambaran mengenai usia perokok, di mana rata-rata usia mereka adalah 42,71 tahun, dengan median di angka 40 tahun dan modus 28 tahun. Ini menunjukkan bahwa sebagian besar perokok berada di sekitar usia 40 tahun, namun ada juga beberapa perokok yang lebih muda. Dalam hal variasi usia, rentangnya cukup luas, yaitu mencapai 77 tahun, dengan varians 261,16 dan deviasi standar 16,16, yang menunjukkan bahwa usia perokok sangat bervariasi. Selain itu, nilai skewness sebesar 0,54 menunjukkan bahwa distribusi usia cenderung miring ke kanan, artinya ada lebih banyak perokok yang berusia lebih tua dalam populasi ini."
   ]
  },
  {
   "cell_type": "markdown",
   "id": "c671292f-3824-4195-96db-49f9439bf49d",
   "metadata": {},
   "source": [
    "# Visualisasi Jumlah Rokok di Hari Kerja"
   ]
  },
  {
   "cell_type": "code",
   "execution_count": 59,
   "id": "1793472d-fbe1-460f-a987-145fb9ab01ae",
   "metadata": {
    "tags": []
   },
   "outputs": [
    {
     "data": {
      "image/png": "[encoded data removed]",
      "text/plain": [
       "<Figure size 600x400 with 1 Axes>"
      ]
     },
     "metadata": {},
     "output_type": "display_data"
    }
   ],
   "source": [
    "# Visualisasi jumlah rokok yang dikonsumsi pada weekdays\n",
    "plt.figure(figsize=(6, 4))\n",
    "sns.histplot(perokok['amt_weekdays'].dropna(), kde=True, bins=20, color='blue')\n",
    "plt.title('Distribusi Jumlah Rokok di Hari Kerja')\n",
    "plt.xlabel('Rokok di Hari Kerja')\n",
    "plt.ylabel('Frekuensi')\n",
    "plt.show()\n"
   ]
  },
  {
   "cell_type": "markdown",
   "id": "fd54dbeb-78a3-478b-ac44-97080ec01e3a",
   "metadata": {},
   "source": [
    "# Penjelasan\n",
    "Grafik distribusi jumlah rokok yang dihisap pada hari kerja menunjukkan pola distribusi bimodal, yang berarti terdapat dua puncak atau modus yang terpisah, terlihat jelas pada grafik diatas. Ini menunjukkan bahwa populasi perokok dalam data ini mungkin terbagi menjadi dua kelompok utama, yaitu satu kelompok yang cenderung merokok sekitar 10 batang per hari, dan kelompok lainnya yang merokok sekitar 20 batang per hari."
   ]
  },
  {
   "cell_type": "code",
   "execution_count": 60,
   "id": "b8bfcf86-0343-4d22-9b61-05898b1f439c",
   "metadata": {
    "tags": []
   },
   "outputs": [
    {
     "name": "stdout",
     "output_type": "stream",
     "text": [
      "Analisis Pemusatan Data\n",
      "Mean: 13.75\n",
      "Median: 12.00\n",
      "Modus: 20.00\n",
      "\n",
      "Analisis Penyebaran Data\n",
      "Range: 55.00\n",
      "Variance: 87.93\n",
      "Standard Deviation: 9.38\n",
      "\n",
      "Skewness (Kemiringan Data)\n",
      "Skewness: 1.11\n",
      "Data miring ke kanan (Positif).\n"
     ]
    }
   ],
   "source": [
    "from scipy.stats import skew\n",
    "\n",
    "# Filter data untuk perokok\n",
    "perokok = data[data['smoke'] == 'Yes']\n",
    "data_perokok = perokok['amt_weekdays'].dropna()  \n",
    "\n",
    "# Menghitung pemusatan data\n",
    "mean = np.mean(data_perokok)\n",
    "median = np.median(data_perokok)\n",
    "modus = data_perokok.mode()[0]  \n",
    "\n",
    "# Menghitung penyebaran data\n",
    "range = np.max(data_perokok) - np.min(data_perokok)\n",
    "variance = np.var(data_perokok, ddof=0)  \n",
    "std_dev= np.std(data_perokok, ddof=0)   \n",
    "\n",
    "# Menghitung skewness\n",
    "skewness = skew(data_perokok)\n",
    "\n",
    "# Menampilkan hasil\n",
    "print(\"Analisis Pemusatan Data\")\n",
    "print(f\"Mean: {mean:.2f}\")\n",
    "print(f\"Median: {median:.2f}\")\n",
    "print(f\"Modus: {modus:.2f}\")\n",
    "\n",
    "print(\"\\nAnalisis Penyebaran Data\")\n",
    "print(f\"Range: {range:.2f}\")\n",
    "print(f\"Variance: {variance:.2f}\")\n",
    "print(f\"Standard Deviation: {std_dev:.2f}\")\n",
    "\n",
    "print(\"\\nSkewness (Kemiringan Data)\")\n",
    "print(f\"Skewness: {skewness:.2f}\")\n",
    "\n",
    "if skewness > 0:\n",
    "    print(\"Data miring ke kanan (Positif).\")\n",
    "elif skewness < 0:\n",
    "    print(\"Data miring ke kiri (Negatif).\")\n",
    "else:\n",
    "    print(\"Data simetris.\")\n"
   ]
  },
  {
   "cell_type": "markdown",
   "id": "472cb410-d2aa-4392-bd38-6682fa1f6a15",
   "metadata": {},
   "source": [
    "Analisis pemusatan data ini menunjukkan bahwa rata-rata jumlah rokok yang dihisap per hari pada hari kerja adalah 13,75 batang, dengan median di angka 12 batang dan modus sebesar 20 batang. Ini berarti bahwa meskipun angka rata-rata lebih rendah, banyak perokok dalam populasi ini yang cenderung mengonsumsi sekitar 20 batang. Dalam hal penyebaran, rentang jumlah rokok yang dihisap mencapai 55 batang, dengan varians 87,93 dan deviasi standar 9,38, yang menunjukkan variasi yang cukup besar dalam kebiasaan merokok. Selain itu, nilai skewness sebesar 1,11 menunjukkan bahwa data ini miring ke kanan, artinya ada lebih banyak individu yang merokok dalam jumlah yang lebih tinggi."
   ]
  },
  {
   "cell_type": "markdown",
   "id": "add1735e-da1f-488b-8785-e83646672529",
   "metadata": {},
   "source": [
    "# Visualisasi Jumlah Rokok di Akhir Pekan"
   ]
  },
  {
   "cell_type": "code",
   "execution_count": 49,
   "id": "cd4ffb4e-c662-4260-bf5e-e5a84bbdbc6c",
   "metadata": {
    "tags": []
   },
   "outputs": [
    {
     "data": {
      "image/png": "[encoded data removed]",
      "text/plain": [
       "<Figure size 600x400 with 1 Axes>"
      ]
     },
     "metadata": {},
     "output_type": "display_data"
    }
   ],
   "source": [
    "# Visualisasi jumlah rokok yang dikonsumsi pada weekends\n",
    "plt.figure(figsize=(6, 4))\n",
    "sns.histplot(perokok['amt_weekends'].dropna(), kde=True, bins=20, color='red')\n",
    "plt.title('Distribusi Jumlah Rokok di Akhir Pekan')\n",
    "plt.xlabel('Rokok di Akhir Pekan')\n",
    "plt.ylabel('Frekuensi')\n",
    "plt.show()"
   ]
  },
  {
   "cell_type": "markdown",
   "id": "7dbf8913-3c6b-441c-8c3b-c97be464ceb8",
   "metadata": {},
   "source": [
    "# Penjelasan\n",
    "Grafik distribusi jumlah rokok yang dihisap pada akhir pekan menunjukkan pola distribusi unimodal. Grafik ini memiliki satu puncak utama yang jelas, yaitu di sekitar 20 rokok per hari. Ini adalah frekuensi tertinggi dalam distribusi. Meskipun ada beberapa variasi kecil dalam distribusi, tetapi puncak utama di sekitar 20 batang rokok per hari tetap mendominasi pola keseluruhan."
   ]
  },
  {
   "cell_type": "code",
   "execution_count": 45,
   "id": "d6409363-c206-4311-9298-4fb25ea3bd7e",
   "metadata": {
    "tags": []
   },
   "outputs": [
    {
     "name": "stdout",
     "output_type": "stream",
     "text": [
      "Analisis Pemusatan Data\n",
      "Mean: 16.41\n",
      "Median: 15.00\n",
      "Modus: 20.00\n",
      "\n",
      "Analisis Penyebaran Data\n",
      "Range: 60.00\n",
      "Variance: 97.64\n",
      "Standard Deviation: 9.88\n",
      "\n",
      "Skewness (Kemiringan Data)\n",
      "Skewness: 0.99\n",
      "Data miring ke kanan (Positif).\n"
     ]
    }
   ],
   "source": [
    "from scipy.stats import skew\n",
    "\n",
    "# Filter data untuk perokok\n",
    "perokok = data[data['smoke'] == 'Yes']\n",
    "data_perokok = perokok['amt_weekends'].dropna()  \n",
    "\n",
    "# Menghitung pemusatan data\n",
    "mean = np.mean(data_perokok)\n",
    "median = np.median(data_perokok)\n",
    "modus = data_perokok.mode()[0]  \n",
    "# Menghitung penyebaran data\n",
    "range = np.max(data_perokok) - np.min(data_perokok)\n",
    "variance = np.var(data_perokok, ddof=0)  \n",
    "std_dev= np.std(data_perokok, ddof=0)   \n",
    "\n",
    "# Menghitung skewness\n",
    "skewness = skew(data_perokok)\n",
    "\n",
    "# Menampilkan hasil\n",
    "print(\"Analisis Pemusatan Data\")\n",
    "print(f\"Mean: {mean:.2f}\")\n",
    "print(f\"Median: {median:.2f}\")\n",
    "print(f\"Modus: {modus:.2f}\")\n",
    "\n",
    "print(\"\\nAnalisis Penyebaran Data\")\n",
    "print(f\"Range: {range:.2f}\")\n",
    "print(f\"Variance: {variance:.2f}\")\n",
    "print(f\"Standard Deviation: {std_dev:.2f}\")\n",
    "\n",
    "print(\"\\nSkewness (Kemiringan Data)\")\n",
    "print(f\"Skewness: {skewness:.2f}\")\n",
    "\n",
    "if skewness > 0:\n",
    "    print(\"Data miring ke kanan (Positif).\")\n",
    "elif skewness < 0:\n",
    "    print(\"Data miring ke kiri (Negatif).\")\n",
    "else:\n",
    "    print(\"Data simetris.\")\n"
   ]
  },
  {
   "cell_type": "markdown",
   "id": "ef56d252-d61a-4232-93d8-f8ad6461428d",
   "metadata": {},
   "source": [
    "Analisis pemusatan data ini menunjukkan bahwa rata-rata jumlah rokok yang dihisap per hari pada akhir pekan adalah 16,41 batang, dengan median 15 batang dan modus 20 batang. Ini menggambarkan bahwa banyak perokok dalam populasi ini cenderung mengonsumsi sekitar 20 batang. Dari segi penyebaran, rentang jumlah rokok mencapai 60 batang, dengan varians 97,64 dan standar deviasi 9,88, menunjukkan variasi yang cukup besar dalam kebiasaan merokok. Selain itu, nilai skewness sebesar 0,99 menunjukkan bahwa data cenderung miring ke kanan, menunjukkan lebih banyak individu yang merokok dalam jumlah yang lebih tinggi."
   ]
  },
  {
   "cell_type": "code",
   "execution_count": null,
   "id": "64909bc5-b2e3-4002-839a-a8e84f738d95",
   "metadata": {},
   "outputs": [],
   "source": []
  }
 ],
 "metadata": {
  "kernelspec": {
   "display_name": "Python 3 (ipykernel)",
   "language": "python",
   "name": "python3"
  },
  "language_info": {
   "codemirror_mode": {
    "name": "ipython",
    "version": 3
   },
   "file_extension": ".py",
   "mimetype": "text/x-python",
   "name": "python",
   "nbconvert_exporter": "python",
   "pygments_lexer": "ipython3",
   "version": "3.11.4"
  }
 },
 "nbformat": 4,
 "nbformat_minor": 5
}
